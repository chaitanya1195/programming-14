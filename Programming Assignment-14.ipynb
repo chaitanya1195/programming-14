{
 "cells": [
  {
   "cell_type": "code",
   "execution_count": 1,
   "id": "6e4fe534",
   "metadata": {},
   "outputs": [
    {
     "name": "stdout",
     "output_type": "stream",
     "text": [
      "Enter a number: 50\n",
      "The special numbers between 0 and 50 are:\n",
      "0\n",
      "7\n",
      "14\n",
      "21\n",
      "28\n",
      "35\n",
      "42\n",
      "49\n"
     ]
    }
   ],
   "source": [
    "#1. Define a class with a generator which can iterate the numbers, which are divisible by 7, between a given range 0 and n.\n",
    "\n",
    "def find_special_numbers(n):\n",
    "    for num in range(n + 1):\n",
    "        if num % 7 == 0:\n",
    "            print(num)\n",
    "\n",
    "# Example usage:\n",
    "try:\n",
    "    n = int(input(\"Enter a number: \"))\n",
    "    print(\"The special numbers between 0 and\", n, \"are:\")\n",
    "    find_special_numbers(n)\n",
    "except ValueError:\n",
    "    print(\"Please enter a valid number.\")"
   ]
  },
  {
   "cell_type": "code",
   "execution_count": 2,
   "id": "4dcde213",
   "metadata": {},
   "outputs": [
    {
     "name": "stdout",
     "output_type": "stream",
     "text": [
      "2:2\n",
      "3:2\n",
      "New:1\n",
      "Python:5\n",
      "Read:1\n",
      "and:1\n",
      "between:1\n",
      "choosing:1\n",
      "or:2\n",
      "to:1\n"
     ]
    }
   ],
   "source": [
    "#Write a program to compute the frequency of the words from the input. The output should output after sorting the key alphanumerically. \n",
    "\n",
    "#Suppose the following input is supplied to the program:\n",
    "\n",
    "#New to Python or choosing between Python 2 and Python 3? Read Python 2 or Python 3.\n",
    "\n",
    "#Then, the output should be:\n",
    "\n",
    "#2:2,3.:1,3?:1,New:1,Python:5,Read:1,and:1,between:1,choosing:1,or:2,to:1\n",
    "\n",
    "\n",
    "def word_frequency(input_text):\n",
    "    words = input_text.split()\n",
    "    word_freq = {}\n",
    "\n",
    "    for word in words:\n",
    "        word = word.strip('.,?')\n",
    "        word_freq[word] = word_freq.get(word, 0) + 1\n",
    "\n",
    "    sorted_freq = sorted(word_freq.items())\n",
    "\n",
    "    for word, freq in sorted_freq:\n",
    "        print(f\"{word}:{freq}\")\n",
    "\n",
    "# Example usage:\n",
    "input_text = \"New to Python or choosing between Python 2 and Python 3? Read Python 2 or Python 3.\"\n",
    "word_frequency(input_text)"
   ]
  },
  {
   "cell_type": "code",
   "execution_count": 8,
   "id": "b2985574",
   "metadata": {},
   "outputs": [
    {
     "name": "stdout",
     "output_type": "stream",
     "text": [
      "Male\n",
      "Female\n"
     ]
    }
   ],
   "source": [
    "#3. Define a class Person and its two child classes: Male and Female. All classes have a method \"getGender\" which can print \"Male\" for Male class and \"Female\" for Female class.\n",
    "\n",
    "class Person:\n",
    "    def getgender(self):\n",
    "        return \"unknown\"\n",
    "    \n",
    "class Male(Person):\n",
    "    def getgender(self):\n",
    "        return \"Male\"\n",
    "\n",
    "class Female(Person):\n",
    "    def getgender(self):\n",
    "        return \"Female\"\n",
    "    \n",
    "Person1 = Male()\n",
    "Person2 = Female()\n",
    "\n",
    "print(Person1.getgender())\n",
    "print(Person2.getgender())"
   ]
  },
  {
   "cell_type": "code",
   "execution_count": 12,
   "id": "f1cbf593",
   "metadata": {},
   "outputs": [
    {
     "name": "stdout",
     "output_type": "stream",
     "text": [
      "I PlayHockey.\n",
      "I PlayFootball.\n",
      "I LoveHockey.\n",
      "I LoveFootball.\n",
      "you PlayHockey.\n",
      "you PlayFootball.\n",
      "you LoveHockey.\n",
      "you LoveFootball.\n"
     ]
    }
   ],
   "source": [
    "\n",
    "#4. Please write a program to generate all sentences where subject is in [\"I\", \"You\"] and verb is in [\"Play\", \"Love\"] and the object is in [\"Hockey\",\"Football\"].\n",
    "\n",
    "def generate_sentences():\n",
    "    subjects = [\"I\", \"you\"]\n",
    "    verbs = [\"Play\", \"Love\"]\n",
    "    objects = [\"Hockey\", \"Football\"]\n",
    "    \n",
    "    sentences = []\n",
    "    \n",
    "    for subject in subjects:\n",
    "        for verb in verbs:\n",
    "            for obj in objects:\n",
    "                sentence = f\"{subject} {verb}{obj}.\"\n",
    "                sentences.append(sentence)\n",
    "                \n",
    "    return sentences\n",
    "\n",
    "sentences_list = generate_sentences()\n",
    "for sentence in sentences_list:\n",
    "    print(sentence)"
   ]
  },
  {
   "cell_type": "code",
   "execution_count": 13,
   "id": "7a435591",
   "metadata": {},
   "outputs": [
    {
     "name": "stdout",
     "output_type": "stream",
     "text": [
      "Compressed data: b'x\\x9c\\xcbH\\xcd\\xc9\\xc9W(\\xcf/\\xcaIQ\\xcc \\x82\\r\\x00\\xbd[\\x11\\xf5'\n",
      "Decompressed string: hello world!hello world!hello world!hello world!\n"
     ]
    }
   ],
   "source": [
    "#5. Please write a program to compress and decompress the string \"hello world!hello world!hello world!hello world!\".\n",
    "\n",
    "\n",
    "import zlib\n",
    "\n",
    "def compress_string(input_string):\n",
    "    compressed_data = zlib.compress(input_string.encode('utf-8'))\n",
    "    return compressed_data\n",
    "\n",
    "def decompress_string(compressed_data):\n",
    "    decompressed_string = zlib.decompress(compressed_data).decode('utf-8')\n",
    "    return decompressed_string\n",
    "\n",
    "# Example usage:\n",
    "input_string = \"hello world!hello world!hello world!hello world!\"\n",
    "compressed_data = compress_string(input_string)\n",
    "print(f\"Compressed data: {compressed_data}\")\n",
    "\n",
    "decompressed_string = decompress_string(compressed_data)\n",
    "print(f\"Decompressed string: {decompressed_string}\")\n"
   ]
  },
  {
   "cell_type": "code",
   "execution_count": 15,
   "id": "b5144b81",
   "metadata": {},
   "outputs": [
    {
     "name": "stdout",
     "output_type": "stream",
     "text": [
      "Item 10 found at index 4.\n"
     ]
    }
   ],
   "source": [
    "#6. Please write a binary search function which searches an item in a sorted list. The function should return the index of element to be searched in the list.\n",
    "\n",
    "def binary_search(arr, target):\n",
    "    left = 0\n",
    "    right = len(arr) - 1\n",
    "\n",
    "    while left <= right:\n",
    "        mid = (left + right) // 2\n",
    "\n",
    "        if arr[mid] == target:\n",
    "            return mid\n",
    "        elif arr[mid] < target:\n",
    "            left = mid + 1\n",
    "        else:\n",
    "            right = mid - 1\n",
    "\n",
    "    return -1\n",
    "\n",
    "# Example usage:\n",
    "sorted_list = [2, 4, 6, 8, 10, 12, 14, 16]\n",
    "item_to_search = 10\n",
    "\n",
    "result_index = binary_search(sorted_list, item_to_search)\n",
    "\n",
    "if result_index != -1:\n",
    "    print(f\"Item {item_to_search} found at index {result_index}.\")\n",
    "else:\n",
    "    print(f\"Item {item_to_search} not found in the list.\")"
   ]
  },
  {
   "cell_type": "code",
   "execution_count": null,
   "id": "98cb2f37",
   "metadata": {},
   "outputs": [],
   "source": []
  }
 ],
 "metadata": {
  "kernelspec": {
   "display_name": "Python 3 (ipykernel)",
   "language": "python",
   "name": "python3"
  },
  "language_info": {
   "codemirror_mode": {
    "name": "ipython",
    "version": 3
   },
   "file_extension": ".py",
   "mimetype": "text/x-python",
   "name": "python",
   "nbconvert_exporter": "python",
   "pygments_lexer": "ipython3",
   "version": "3.9.13"
  }
 },
 "nbformat": 4,
 "nbformat_minor": 5
}
